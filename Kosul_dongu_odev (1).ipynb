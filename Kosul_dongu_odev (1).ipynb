{
 "cells": [
  {
   "cell_type": "markdown",
   "id": "409f0f4a",
   "metadata": {},
   "source": [
    "**Ödev-1:** Kullanıcıdan maaş bilgisini istenir ve bu bilgiye göre maaşından ne kadar vergi kesileceğini hesaplanır. Kullanıcının geliri;\n",
    "\n",
    "1. 10000 ve altındaysa maaşından %5 kesinti olur.\n",
    "2. 25000 ve altındaysa maaşından %10 kesinti olur.\n",
    "3. 45000 ve altındaysa maaşından %25 kesinti olur.\n",
    "4. Diğer koşullarda %30 kesinti olur.\n",
    "\n",
    "Bu durumlara göre kullanıcının yeni maaşı yazdırılır."
   ]
  },
  {
   "cell_type": "code",
   "execution_count": 1,
   "id": "5246e510",
   "metadata": {},
   "outputs": [
    {
     "name": "stdout",
     "output_type": "stream",
     "text": [
      "maas: 10000\n",
      "9500.0\n"
     ]
    }
   ],
   "source": [
    "maas = int(input(\"maas: \"))\n",
    "if maas <= 10000:\n",
    "    maas *= 0.95\n",
    "elif maas <= 25000:\n",
    "    maas *= 0.9\n",
    "elif maas <= 40000:\n",
    "    maas *= 0.75\n",
    "else:\n",
    "    maas *= 0.7\n",
    "\n",
    "print(maas)\n",
    "\n"
   ]
  },
  {
   "cell_type": "markdown",
   "id": "f5fe8798",
   "metadata": {},
   "source": [
    "**Ödev-2:** Kullanıcıdan kullanıcı adı ve şifre oluşturmasını istenir. Şifrenin uzunluğu altı haneye ulaşmışsa hesabınız oluşturuldu mesajı alınır, altı haneden azsa altı haneli şifre oluşturması gerektiğinin mesajı alınır. *(Sadece koşul kullanılması yeterli.)*"
   ]
  },
  {
   "cell_type": "code",
   "execution_count": 2,
   "id": "6acffe57",
   "metadata": {},
   "outputs": [
    {
     "name": "stdout",
     "output_type": "stream",
     "text": [
      "sifreni gir: 123\n",
      "sifreniz min 6 haneli olmali\n",
      "sifreni gir: 159789\n",
      "sifre olusturuldu\n"
     ]
    }
   ],
   "source": [
    "while True:\n",
    "    sifre = input(\"sifreni gir: \")\n",
    "    if len(sifre) >= 6:\n",
    "        print(\"sifre olusturuldu\")\n",
    "        break\n",
    "    else:\n",
    "        print(\"sifreniz min 6 haneli olmali\")\n",
    "        continue\n"
   ]
  },
  {
   "cell_type": "markdown",
   "id": "aaccf11a",
   "metadata": {},
   "source": [
    "**Ödev-3:** Bir önceki örnek geliştirilir.\n",
    "\n",
    "1. Kullanıcı girdiği şifre 5 ve 10 hane arasında olmak zorunda.\n",
    "2. Eğer bu koşula uyuyorsa \"Hesabınız oluşturuldu.\" mesajı alır.\n",
    "3. Koşulu sağlamıyorsa \"Lütfen girdiniz şifre 5 haneden az 10 haneden fazla olmasın!\" uyarısı alır.\n",
    "4. Bunu oluştururken kullanıcı istediğimiz şartlarda şifre oluşturana kadar sormaya devam eder"
   ]
  },
  {
   "cell_type": "code",
   "execution_count": 3,
   "id": "039e50dc",
   "metadata": {},
   "outputs": [
    {
     "name": "stdout",
     "output_type": "stream",
     "text": [
      "sifreni gir: 123\n",
      "Lütfen girdiniz şifre 5 haneden az 10 haneden fazla olmasın!\n",
      "sifreni gir: 99999\n",
      "Hesabınız oluşturuldu.\n"
     ]
    }
   ],
   "source": [
    "while True:\n",
    "    sifre = input(\"sifreni gir: \")\n",
    "    if len(sifre) >= 5 and len(sifre) <= 10:\n",
    "        print(\"Hesabınız oluşturuldu.\")\n",
    "        break\n",
    "    else:\n",
    "        print( \"Lütfen girdiniz şifre 5 haneden az 10 haneden fazla olmasın!\")\n",
    "        continue"
   ]
  },
  {
   "cell_type": "markdown",
   "id": "8ba81863",
   "metadata": {},
   "source": [
    "**Ödev-4:** Kullanıcıdan isim ve şifre isteyeceğiz ve şifre girişi için üç hak verilir.\n",
    "\n",
    "1. Eğer önceden tanımlı şifre ile kullanıcıdan gelen şifre aynıysa \"Giriş yapıldı.\" yazar.\n",
    "2. Şifre girişi yanlışsa \"Yanlış şifre girildi!\" uyarısı verilsin ve üç yanlış denemede program biter.\n",
    "3. Tercihe göre kalan hak bilgisi verilir."
   ]
  },
  {
   "cell_type": "code",
   "execution_count": 3,
   "id": "8f45ea0c",
   "metadata": {},
   "outputs": [
    {
     "name": "stdout",
     "output_type": "stream",
     "text": [
      "ismini gir: t\n",
      "sifreni gir: 1\n",
      "Yanlış şifre girildi!\n",
      "kalan hak: 2\n",
      "sifreni gir: 2\n",
      "Yanlış şifre girildi!\n",
      "kalan hak: 1\n",
      "sifreni gir: 3\n",
      "Yanlış şifre girildi!\n",
      "kalan hak: 0\n"
     ]
    }
   ],
   "source": [
    "password = \"123456\"\n",
    "hak = 2\n",
    "id = input(\"ismini gir: \")\n",
    "while hak >= 0:\n",
    "    sifre = input(\"sifreni gir: \")\n",
    "    if sifre == password:\n",
    "        print(\"Giriş yapıldı.\")\n",
    "        break\n",
    "    else:\n",
    "        print(\"Yanlış şifre girildi!\")\n",
    "        print(f\"kalan hak: {hak}\")\n",
    "        hak -= 1\n",
    "        continue"
   ]
  },
  {
   "cell_type": "code",
   "execution_count": null,
   "id": "a4a409d5",
   "metadata": {},
   "outputs": [],
   "source": []
  },
  {
   "cell_type": "code",
   "execution_count": null,
   "id": "22a271bf",
   "metadata": {},
   "outputs": [],
   "source": []
  }
 ],
 "metadata": {
  "kernelspec": {
   "display_name": "Python 3 (ipykernel)",
   "language": "python",
   "name": "python3"
  },
  "language_info": {
   "codemirror_mode": {
    "name": "ipython",
    "version": 3
   },
   "file_extension": ".py",
   "mimetype": "text/x-python",
   "name": "python",
   "nbconvert_exporter": "python",
   "pygments_lexer": "ipython3",
   "version": "3.11.5"
  }
 },
 "nbformat": 4,
 "nbformat_minor": 5
}
